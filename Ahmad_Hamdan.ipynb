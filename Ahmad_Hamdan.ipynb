{
  "nbformat": 4,
  "nbformat_minor": 0,
  "metadata": {
    "colab": {
      "provenance": [],
      "toc_visible": true
    },
    "kernelspec": {
      "name": "python3",
      "display_name": "Python 3"
    },
    "language_info": {
      "name": "python"
    }
  },
  "cells": [
    {
      "cell_type": "markdown",
      "source": [
        "#Regression Task"
      ],
      "metadata": {
        "id": "fgnqzMRG1i1-"
      }
    },
    {
      "cell_type": "markdown",
      "source": [
        "##Data Preprocessing:"
      ],
      "metadata": {
        "id": "l1HHzea1uOlZ"
      }
    },
    {
      "cell_type": "code",
      "execution_count": 28,
      "metadata": {
        "id": "piCFx6AodyuC"
      },
      "outputs": [],
      "source": [
        "import numpy as np\n",
        "import pandas as pd\n",
        "import matplotlib.pyplot as plt\n",
        "%matplotlib inline\n",
        "\n",
        "plt.rcParams['figure.figsize'] = [10, 8]"
      ]
    },
    {
      "cell_type": "code",
      "source": [
        "#Read data\n",
        "bitrate_train_df = pd.read_csv('bitrate_train.csv')\n",
        "bitrate_test_df = pd.read_csv('bitrate_test.csv')\n",
        "bitrate_train_df.head(5)"
      ],
      "metadata": {
        "colab": {
          "base_uri": "https://localhost:8080/",
          "height": 270
        },
        "id": "O-PytHmUuxCH",
        "outputId": "a28bd582-97a1-4e2c-d04e-f7111024a86f"
      },
      "execution_count": 29,
      "outputs": [
        {
          "output_type": "execute_result",
          "data": {
            "text/plain": [
              "   fps_mean   fps_std  rtt_mean    rtt_std  dropped_frames_mean  \\\n",
              "0      24.4  0.516398      91.1   6.723921                  0.0   \n",
              "1      28.6  2.065591      99.7  15.923777                  0.0   \n",
              "2      30.0  0.000000      98.1  11.798776                  0.0   \n",
              "3      30.3  0.948683      99.4  13.014522                  0.0   \n",
              "4      29.9  0.316228     123.2  62.476307                  0.0   \n",
              "\n",
              "   dropped_frames_std  dropped_frames_max  bitrate_mean  bitrate_std  target  \n",
              "0                 0.0                 0.0         460.5     7.648529   616.0  \n",
              "1                 0.0                 0.0         616.3   155.414893   565.0  \n",
              "2                 0.0                 0.0         565.2     9.077445   573.0  \n",
              "3                 0.0                 0.0         573.8    28.350191   585.0  \n",
              "4                 0.0                 0.0         585.8    59.458295   555.0  "
            ],
            "text/html": [
              "\n",
              "  <div id=\"df-2c2c6a59-754a-4187-8d95-9eaf2c6b9950\">\n",
              "    <div class=\"colab-df-container\">\n",
              "      <div>\n",
              "<style scoped>\n",
              "    .dataframe tbody tr th:only-of-type {\n",
              "        vertical-align: middle;\n",
              "    }\n",
              "\n",
              "    .dataframe tbody tr th {\n",
              "        vertical-align: top;\n",
              "    }\n",
              "\n",
              "    .dataframe thead th {\n",
              "        text-align: right;\n",
              "    }\n",
              "</style>\n",
              "<table border=\"1\" class=\"dataframe\">\n",
              "  <thead>\n",
              "    <tr style=\"text-align: right;\">\n",
              "      <th></th>\n",
              "      <th>fps_mean</th>\n",
              "      <th>fps_std</th>\n",
              "      <th>rtt_mean</th>\n",
              "      <th>rtt_std</th>\n",
              "      <th>dropped_frames_mean</th>\n",
              "      <th>dropped_frames_std</th>\n",
              "      <th>dropped_frames_max</th>\n",
              "      <th>bitrate_mean</th>\n",
              "      <th>bitrate_std</th>\n",
              "      <th>target</th>\n",
              "    </tr>\n",
              "  </thead>\n",
              "  <tbody>\n",
              "    <tr>\n",
              "      <th>0</th>\n",
              "      <td>24.4</td>\n",
              "      <td>0.516398</td>\n",
              "      <td>91.1</td>\n",
              "      <td>6.723921</td>\n",
              "      <td>0.0</td>\n",
              "      <td>0.0</td>\n",
              "      <td>0.0</td>\n",
              "      <td>460.5</td>\n",
              "      <td>7.648529</td>\n",
              "      <td>616.0</td>\n",
              "    </tr>\n",
              "    <tr>\n",
              "      <th>1</th>\n",
              "      <td>28.6</td>\n",
              "      <td>2.065591</td>\n",
              "      <td>99.7</td>\n",
              "      <td>15.923777</td>\n",
              "      <td>0.0</td>\n",
              "      <td>0.0</td>\n",
              "      <td>0.0</td>\n",
              "      <td>616.3</td>\n",
              "      <td>155.414893</td>\n",
              "      <td>565.0</td>\n",
              "    </tr>\n",
              "    <tr>\n",
              "      <th>2</th>\n",
              "      <td>30.0</td>\n",
              "      <td>0.000000</td>\n",
              "      <td>98.1</td>\n",
              "      <td>11.798776</td>\n",
              "      <td>0.0</td>\n",
              "      <td>0.0</td>\n",
              "      <td>0.0</td>\n",
              "      <td>565.2</td>\n",
              "      <td>9.077445</td>\n",
              "      <td>573.0</td>\n",
              "    </tr>\n",
              "    <tr>\n",
              "      <th>3</th>\n",
              "      <td>30.3</td>\n",
              "      <td>0.948683</td>\n",
              "      <td>99.4</td>\n",
              "      <td>13.014522</td>\n",
              "      <td>0.0</td>\n",
              "      <td>0.0</td>\n",
              "      <td>0.0</td>\n",
              "      <td>573.8</td>\n",
              "      <td>28.350191</td>\n",
              "      <td>585.0</td>\n",
              "    </tr>\n",
              "    <tr>\n",
              "      <th>4</th>\n",
              "      <td>29.9</td>\n",
              "      <td>0.316228</td>\n",
              "      <td>123.2</td>\n",
              "      <td>62.476307</td>\n",
              "      <td>0.0</td>\n",
              "      <td>0.0</td>\n",
              "      <td>0.0</td>\n",
              "      <td>585.8</td>\n",
              "      <td>59.458295</td>\n",
              "      <td>555.0</td>\n",
              "    </tr>\n",
              "  </tbody>\n",
              "</table>\n",
              "</div>\n",
              "      <button class=\"colab-df-convert\" onclick=\"convertToInteractive('df-2c2c6a59-754a-4187-8d95-9eaf2c6b9950')\"\n",
              "              title=\"Convert this dataframe to an interactive table.\"\n",
              "              style=\"display:none;\">\n",
              "        \n",
              "  <svg xmlns=\"http://www.w3.org/2000/svg\" height=\"24px\"viewBox=\"0 0 24 24\"\n",
              "       width=\"24px\">\n",
              "    <path d=\"M0 0h24v24H0V0z\" fill=\"none\"/>\n",
              "    <path d=\"M18.56 5.44l.94 2.06.94-2.06 2.06-.94-2.06-.94-.94-2.06-.94 2.06-2.06.94zm-11 1L8.5 8.5l.94-2.06 2.06-.94-2.06-.94L8.5 2.5l-.94 2.06-2.06.94zm10 10l.94 2.06.94-2.06 2.06-.94-2.06-.94-.94-2.06-.94 2.06-2.06.94z\"/><path d=\"M17.41 7.96l-1.37-1.37c-.4-.4-.92-.59-1.43-.59-.52 0-1.04.2-1.43.59L10.3 9.45l-7.72 7.72c-.78.78-.78 2.05 0 2.83L4 21.41c.39.39.9.59 1.41.59.51 0 1.02-.2 1.41-.59l7.78-7.78 2.81-2.81c.8-.78.8-2.07 0-2.86zM5.41 20L4 18.59l7.72-7.72 1.47 1.35L5.41 20z\"/>\n",
              "  </svg>\n",
              "      </button>\n",
              "      \n",
              "  <style>\n",
              "    .colab-df-container {\n",
              "      display:flex;\n",
              "      flex-wrap:wrap;\n",
              "      gap: 12px;\n",
              "    }\n",
              "\n",
              "    .colab-df-convert {\n",
              "      background-color: #E8F0FE;\n",
              "      border: none;\n",
              "      border-radius: 50%;\n",
              "      cursor: pointer;\n",
              "      display: none;\n",
              "      fill: #1967D2;\n",
              "      height: 32px;\n",
              "      padding: 0 0 0 0;\n",
              "      width: 32px;\n",
              "    }\n",
              "\n",
              "    .colab-df-convert:hover {\n",
              "      background-color: #E2EBFA;\n",
              "      box-shadow: 0px 1px 2px rgba(60, 64, 67, 0.3), 0px 1px 3px 1px rgba(60, 64, 67, 0.15);\n",
              "      fill: #174EA6;\n",
              "    }\n",
              "\n",
              "    [theme=dark] .colab-df-convert {\n",
              "      background-color: #3B4455;\n",
              "      fill: #D2E3FC;\n",
              "    }\n",
              "\n",
              "    [theme=dark] .colab-df-convert:hover {\n",
              "      background-color: #434B5C;\n",
              "      box-shadow: 0px 1px 3px 1px rgba(0, 0, 0, 0.15);\n",
              "      filter: drop-shadow(0px 1px 2px rgba(0, 0, 0, 0.3));\n",
              "      fill: #FFFFFF;\n",
              "    }\n",
              "  </style>\n",
              "\n",
              "      <script>\n",
              "        const buttonEl =\n",
              "          document.querySelector('#df-2c2c6a59-754a-4187-8d95-9eaf2c6b9950 button.colab-df-convert');\n",
              "        buttonEl.style.display =\n",
              "          google.colab.kernel.accessAllowed ? 'block' : 'none';\n",
              "\n",
              "        async function convertToInteractive(key) {\n",
              "          const element = document.querySelector('#df-2c2c6a59-754a-4187-8d95-9eaf2c6b9950');\n",
              "          const dataTable =\n",
              "            await google.colab.kernel.invokeFunction('convertToInteractive',\n",
              "                                                     [key], {});\n",
              "          if (!dataTable) return;\n",
              "\n",
              "          const docLinkHtml = 'Like what you see? Visit the ' +\n",
              "            '<a target=\"_blank\" href=https://colab.research.google.com/notebooks/data_table.ipynb>data table notebook</a>'\n",
              "            + ' to learn more about interactive tables.';\n",
              "          element.innerHTML = '';\n",
              "          dataTable['output_type'] = 'display_data';\n",
              "          await google.colab.output.renderOutput(dataTable, element);\n",
              "          const docLink = document.createElement('div');\n",
              "          docLink.innerHTML = docLinkHtml;\n",
              "          element.appendChild(docLink);\n",
              "        }\n",
              "      </script>\n",
              "    </div>\n",
              "  </div>\n",
              "  "
            ]
          },
          "metadata": {},
          "execution_count": 29
        }
      ]
    },
    {
      "cell_type": "code",
      "source": [
        "bitrate_test_df.head(5)"
      ],
      "metadata": {
        "colab": {
          "base_uri": "https://localhost:8080/",
          "height": 270
        },
        "id": "9IKNTuaqvZtX",
        "outputId": "4d10a0c1-f9a1-4c1b-c915-240bf75a20c2"
      },
      "execution_count": 30,
      "outputs": [
        {
          "output_type": "execute_result",
          "data": {
            "text/plain": [
              "   fps_mean   fps_std  rtt_mean   rtt_std  dropped_frames_mean  \\\n",
              "0      29.9  0.316228      55.0  0.942809                  0.0   \n",
              "1      30.0  0.000000      55.0  0.942809                  0.0   \n",
              "2      30.0  0.000000      56.0  3.299832                  0.0   \n",
              "3      29.9  0.316228      58.4  4.599517                  0.0   \n",
              "4      30.0  0.000000      54.7  1.251666                  0.0   \n",
              "\n",
              "   dropped_frames_std  dropped_frames_max  bitrate_mean  bitrate_std  target  \n",
              "0                 0.0                 0.0         682.8    36.468556   718.0  \n",
              "1                 0.0                 0.0         718.0    43.609377   670.9  \n",
              "2                 0.0                 0.0         670.9    24.378725   789.8  \n",
              "3                 0.0                 0.0         789.8   238.545500   723.2  \n",
              "4                 0.0                 0.0         723.2    40.846052   693.6  "
            ],
            "text/html": [
              "\n",
              "  <div id=\"df-f99a85a1-d16a-490e-98ec-c58000a9100f\">\n",
              "    <div class=\"colab-df-container\">\n",
              "      <div>\n",
              "<style scoped>\n",
              "    .dataframe tbody tr th:only-of-type {\n",
              "        vertical-align: middle;\n",
              "    }\n",
              "\n",
              "    .dataframe tbody tr th {\n",
              "        vertical-align: top;\n",
              "    }\n",
              "\n",
              "    .dataframe thead th {\n",
              "        text-align: right;\n",
              "    }\n",
              "</style>\n",
              "<table border=\"1\" class=\"dataframe\">\n",
              "  <thead>\n",
              "    <tr style=\"text-align: right;\">\n",
              "      <th></th>\n",
              "      <th>fps_mean</th>\n",
              "      <th>fps_std</th>\n",
              "      <th>rtt_mean</th>\n",
              "      <th>rtt_std</th>\n",
              "      <th>dropped_frames_mean</th>\n",
              "      <th>dropped_frames_std</th>\n",
              "      <th>dropped_frames_max</th>\n",
              "      <th>bitrate_mean</th>\n",
              "      <th>bitrate_std</th>\n",
              "      <th>target</th>\n",
              "    </tr>\n",
              "  </thead>\n",
              "  <tbody>\n",
              "    <tr>\n",
              "      <th>0</th>\n",
              "      <td>29.9</td>\n",
              "      <td>0.316228</td>\n",
              "      <td>55.0</td>\n",
              "      <td>0.942809</td>\n",
              "      <td>0.0</td>\n",
              "      <td>0.0</td>\n",
              "      <td>0.0</td>\n",
              "      <td>682.8</td>\n",
              "      <td>36.468556</td>\n",
              "      <td>718.0</td>\n",
              "    </tr>\n",
              "    <tr>\n",
              "      <th>1</th>\n",
              "      <td>30.0</td>\n",
              "      <td>0.000000</td>\n",
              "      <td>55.0</td>\n",
              "      <td>0.942809</td>\n",
              "      <td>0.0</td>\n",
              "      <td>0.0</td>\n",
              "      <td>0.0</td>\n",
              "      <td>718.0</td>\n",
              "      <td>43.609377</td>\n",
              "      <td>670.9</td>\n",
              "    </tr>\n",
              "    <tr>\n",
              "      <th>2</th>\n",
              "      <td>30.0</td>\n",
              "      <td>0.000000</td>\n",
              "      <td>56.0</td>\n",
              "      <td>3.299832</td>\n",
              "      <td>0.0</td>\n",
              "      <td>0.0</td>\n",
              "      <td>0.0</td>\n",
              "      <td>670.9</td>\n",
              "      <td>24.378725</td>\n",
              "      <td>789.8</td>\n",
              "    </tr>\n",
              "    <tr>\n",
              "      <th>3</th>\n",
              "      <td>29.9</td>\n",
              "      <td>0.316228</td>\n",
              "      <td>58.4</td>\n",
              "      <td>4.599517</td>\n",
              "      <td>0.0</td>\n",
              "      <td>0.0</td>\n",
              "      <td>0.0</td>\n",
              "      <td>789.8</td>\n",
              "      <td>238.545500</td>\n",
              "      <td>723.2</td>\n",
              "    </tr>\n",
              "    <tr>\n",
              "      <th>4</th>\n",
              "      <td>30.0</td>\n",
              "      <td>0.000000</td>\n",
              "      <td>54.7</td>\n",
              "      <td>1.251666</td>\n",
              "      <td>0.0</td>\n",
              "      <td>0.0</td>\n",
              "      <td>0.0</td>\n",
              "      <td>723.2</td>\n",
              "      <td>40.846052</td>\n",
              "      <td>693.6</td>\n",
              "    </tr>\n",
              "  </tbody>\n",
              "</table>\n",
              "</div>\n",
              "      <button class=\"colab-df-convert\" onclick=\"convertToInteractive('df-f99a85a1-d16a-490e-98ec-c58000a9100f')\"\n",
              "              title=\"Convert this dataframe to an interactive table.\"\n",
              "              style=\"display:none;\">\n",
              "        \n",
              "  <svg xmlns=\"http://www.w3.org/2000/svg\" height=\"24px\"viewBox=\"0 0 24 24\"\n",
              "       width=\"24px\">\n",
              "    <path d=\"M0 0h24v24H0V0z\" fill=\"none\"/>\n",
              "    <path d=\"M18.56 5.44l.94 2.06.94-2.06 2.06-.94-2.06-.94-.94-2.06-.94 2.06-2.06.94zm-11 1L8.5 8.5l.94-2.06 2.06-.94-2.06-.94L8.5 2.5l-.94 2.06-2.06.94zm10 10l.94 2.06.94-2.06 2.06-.94-2.06-.94-.94-2.06-.94 2.06-2.06.94z\"/><path d=\"M17.41 7.96l-1.37-1.37c-.4-.4-.92-.59-1.43-.59-.52 0-1.04.2-1.43.59L10.3 9.45l-7.72 7.72c-.78.78-.78 2.05 0 2.83L4 21.41c.39.39.9.59 1.41.59.51 0 1.02-.2 1.41-.59l7.78-7.78 2.81-2.81c.8-.78.8-2.07 0-2.86zM5.41 20L4 18.59l7.72-7.72 1.47 1.35L5.41 20z\"/>\n",
              "  </svg>\n",
              "      </button>\n",
              "      \n",
              "  <style>\n",
              "    .colab-df-container {\n",
              "      display:flex;\n",
              "      flex-wrap:wrap;\n",
              "      gap: 12px;\n",
              "    }\n",
              "\n",
              "    .colab-df-convert {\n",
              "      background-color: #E8F0FE;\n",
              "      border: none;\n",
              "      border-radius: 50%;\n",
              "      cursor: pointer;\n",
              "      display: none;\n",
              "      fill: #1967D2;\n",
              "      height: 32px;\n",
              "      padding: 0 0 0 0;\n",
              "      width: 32px;\n",
              "    }\n",
              "\n",
              "    .colab-df-convert:hover {\n",
              "      background-color: #E2EBFA;\n",
              "      box-shadow: 0px 1px 2px rgba(60, 64, 67, 0.3), 0px 1px 3px 1px rgba(60, 64, 67, 0.15);\n",
              "      fill: #174EA6;\n",
              "    }\n",
              "\n",
              "    [theme=dark] .colab-df-convert {\n",
              "      background-color: #3B4455;\n",
              "      fill: #D2E3FC;\n",
              "    }\n",
              "\n",
              "    [theme=dark] .colab-df-convert:hover {\n",
              "      background-color: #434B5C;\n",
              "      box-shadow: 0px 1px 3px 1px rgba(0, 0, 0, 0.15);\n",
              "      filter: drop-shadow(0px 1px 2px rgba(0, 0, 0, 0.3));\n",
              "      fill: #FFFFFF;\n",
              "    }\n",
              "  </style>\n",
              "\n",
              "      <script>\n",
              "        const buttonEl =\n",
              "          document.querySelector('#df-f99a85a1-d16a-490e-98ec-c58000a9100f button.colab-df-convert');\n",
              "        buttonEl.style.display =\n",
              "          google.colab.kernel.accessAllowed ? 'block' : 'none';\n",
              "\n",
              "        async function convertToInteractive(key) {\n",
              "          const element = document.querySelector('#df-f99a85a1-d16a-490e-98ec-c58000a9100f');\n",
              "          const dataTable =\n",
              "            await google.colab.kernel.invokeFunction('convertToInteractive',\n",
              "                                                     [key], {});\n",
              "          if (!dataTable) return;\n",
              "\n",
              "          const docLinkHtml = 'Like what you see? Visit the ' +\n",
              "            '<a target=\"_blank\" href=https://colab.research.google.com/notebooks/data_table.ipynb>data table notebook</a>'\n",
              "            + ' to learn more about interactive tables.';\n",
              "          element.innerHTML = '';\n",
              "          dataTable['output_type'] = 'display_data';\n",
              "          await google.colab.output.renderOutput(dataTable, element);\n",
              "          const docLink = document.createElement('div');\n",
              "          docLink.innerHTML = docLinkHtml;\n",
              "          element.appendChild(docLink);\n",
              "        }\n",
              "      </script>\n",
              "    </div>\n",
              "  </div>\n",
              "  "
            ]
          },
          "metadata": {},
          "execution_count": 30
        }
      ]
    },
    {
      "cell_type": "code",
      "source": [
        "#if you are using colab please run this cell for pandas profiling report \n",
        "#!pip install https://github.com/pandas-profiling/pandas-profiling/archive/master.zip "
      ],
      "metadata": {
        "id": "cCmmgPd_zhc_"
      },
      "execution_count": 31,
      "outputs": []
    },
    {
      "cell_type": "code",
      "source": [
        "# import pandas_profiling\n",
        "\n",
        "# # Create the data profile report\n",
        "# profileReport = pandas_profiling.profile_report.ProfileReport(bitrate_train_df)\n",
        "# profileReport.to_file('bitrate_profile_report_test.html')"
      ],
      "metadata": {
        "id": "RlBDTG8MzxNd"
      },
      "execution_count": 32,
      "outputs": []
    },
    {
      "cell_type": "code",
      "source": [
        "#drop duplicates\n",
        "bitrate_train_df.drop_duplicates(inplace=True)\n",
        "bitrate_test_df.drop_duplicates(inplace=True)"
      ],
      "metadata": {
        "id": "uBixuq6BEmhk"
      },
      "execution_count": 33,
      "outputs": []
    },
    {
      "cell_type": "code",
      "source": [
        "#Remove outliers depending on zscore\n",
        "from scipy import stats\n",
        "print('shape before removal', bitrate_train_df.shape)\n",
        "bitrate_train_df = bitrate_train_df[(np.abs(stats.zscore(bitrate_train_df)) < 3).all(axis=1)]\n",
        "print('shape after removal', bitrate_train_df.shape)"
      ],
      "metadata": {
        "colab": {
          "base_uri": "https://localhost:8080/"
        },
        "id": "BAhQoGYX1WaT",
        "outputId": "8fcea159-c9c9-4ccb-9a7e-3d555593e34e"
      },
      "execution_count": 34,
      "outputs": [
        {
          "output_type": "stream",
          "name": "stdout",
          "text": [
            "shape before removal (375660, 10)\n",
            "shape after removal (349696, 10)\n"
          ]
        }
      ]
    },
    {
      "cell_type": "code",
      "source": [
        "#spliting data\n",
        "x_train = bitrate_train_df.drop(['target'], axis = 1)\n",
        "y_train = bitrate_train_df['target']\n",
        "x_test = bitrate_test_df.drop(['target'], axis = 1)\n",
        "y_test = bitrate_test_df['target']"
      ],
      "metadata": {
        "id": "IJCuDCD01L-G"
      },
      "execution_count": 35,
      "outputs": []
    },
    {
      "cell_type": "code",
      "source": [
        "#Feature Scaling\n",
        "from sklearn.preprocessing import MinMaxScaler\n",
        "scaler = MinMaxScaler().fit(x_train)\n",
        "x_train = pd.DataFrame(scaler.transform(x_train), columns=x_train.columns)\n",
        "x_test = pd.DataFrame(scaler.transform(x_test), columns=x_test.columns)"
      ],
      "metadata": {
        "id": "UYj1OD15Dy_D"
      },
      "execution_count": 36,
      "outputs": []
    },
    {
      "cell_type": "markdown",
      "source": [
        "##Feature Selection: \n",
        "For feature selection I read there references below, and depended on the Pandas Profiling Report Correlation Matrix, and double checked my intuition using **SelectKBest** function from **sklearn.feature_selection**\n",
        "\n",
        "*   [link](https://towardsdatascience.com/feature-selection-techniques-in-machine-learning-with-python-f24e7da3f36e)\n",
        "*   [link2](https://medium.com/mlearning-ai/how-i-used-selectkbest-feature-selection-on-kaggles-august-2021-tabular-competition-1b8a35ad429a)\n",
        "\n",
        "* [link3](https://medium.com/geekculture/feature-selection-in-large-datasets-fc27a7e8e388)"
      ],
      "metadata": {
        "id": "7cw2V-LDB5dd"
      }
    },
    {
      "cell_type": "code",
      "source": [
        "from sklearn.feature_selection import SelectKBest\n",
        "from sklearn.feature_selection import f_regression\n",
        "\n",
        "selector = SelectKBest(f_regression, k=3).fit(x_train, y_train)\n",
        "names = selector.get_feature_names_out()\n",
        "print(names) #now we know the most important features\n"
      ],
      "metadata": {
        "colab": {
          "base_uri": "https://localhost:8080/"
        },
        "id": "BCwBJG1cFees",
        "outputId": "2ff80ed3-3cc5-4656-f86c-8e9e4bd09747"
      },
      "execution_count": 38,
      "outputs": [
        {
          "output_type": "stream",
          "name": "stdout",
          "text": [
            "['fps_mean' 'bitrate_mean' 'bitrate_std']\n"
          ]
        }
      ]
    },
    {
      "cell_type": "code",
      "source": [
        "x_train = x_train[['fps_mean', 'bitrate_mean', 'bitrate_std']]\n",
        "x_test = x_test[['fps_mean', 'bitrate_mean', 'bitrate_std']]\n",
        "x_train.shape"
      ],
      "metadata": {
        "colab": {
          "base_uri": "https://localhost:8080/"
        },
        "id": "eSmiy6eK6I7T",
        "outputId": "c0b19086-eae7-4e7c-9acf-77d8b2edd11f"
      },
      "execution_count": 39,
      "outputs": [
        {
          "output_type": "execute_result",
          "data": {
            "text/plain": [
              "(349696, 3)"
            ]
          },
          "metadata": {},
          "execution_count": 39
        }
      ]
    },
    {
      "cell_type": "markdown",
      "source": [
        "##Data Visualization\n",
        "\n",
        "This section will added later, will use PCA and pandas profiling as well"
      ],
      "metadata": {
        "id": "tBfVtAxvXe3K"
      }
    },
    {
      "cell_type": "code",
      "source": [
        "plt.scatter(bitrate_train_df['bitrate_mean'], bitrate_train_df['target'])\n",
        "plt.title('Target vs Bitrate mean')\n",
        "plt.xlabel('bitrate_mean')\n",
        "plt.ylabel('target')\n",
        "plt.show()\n",
        "plt.show"
      ],
      "metadata": {
        "colab": {
          "base_uri": "https://localhost:8080/",
          "height": 531
        },
        "id": "wtnjaZYXEcMs",
        "outputId": "55a847e5-86aa-4d5d-f3a5-88cae7cb149c"
      },
      "execution_count": 40,
      "outputs": [
        {
          "output_type": "display_data",
          "data": {
            "text/plain": [
              "<Figure size 720x576 with 1 Axes>"
            ],
            "image/png": "[encoded data removed]"
          },
          "metadata": {
            "needs_background": "light"
          }
        },
        {
          "output_type": "execute_result",
          "data": {
            "text/plain": [
              "<function matplotlib.pyplot.show(*args, **kw)>"
            ]
          },
          "metadata": {},
          "execution_count": 40
        }
      ]
    },
    {
      "cell_type": "markdown",
      "source": [
        "##Models for regression\n",
        "* Multiple Linear Regression \n",
        "* Plynomial Regression \n",
        "* Lasso"
      ],
      "metadata": {
        "id": "x4Ef5NK2YNZK"
      }
    },
    {
      "cell_type": "markdown",
      "source": [
        "###Linear regression "
      ],
      "metadata": {
        "id": "lWPK6LN2YnH0"
      }
    },
    {
      "cell_type": "code",
      "source": [
        "from sklearn.linear_model import LinearRegression\n",
        "from sklearn import metrics\n",
        "regressor = LinearRegression()\n",
        "regressor.fit(x_train, y_train)\n",
        "\n",
        "y_pred = regressor.predict(x_test)\n",
        "eval_df = pd.DataFrame({'Actual': y_test, 'Predicted': y_pred})\n",
        "eval_df.head(10)\n"
      ],
      "metadata": {
        "colab": {
          "base_uri": "https://localhost:8080/",
          "height": 363
        },
        "id": "2jq3_JnGYrq6",
        "outputId": "afafcdbf-e8ce-49e8-df80-e8949846a5d7"
      },
      "execution_count": 41,
      "outputs": [
        {
          "output_type": "execute_result",
          "data": {
            "text/plain": [
              "   Actual    Predicted\n",
              "0   718.0   989.742585\n",
              "1   670.9  1023.386632\n",
              "2   789.8   977.472237\n",
              "3   723.2  1112.019597\n",
              "4   693.6  1027.901334\n",
              "5   732.6  1001.338287\n",
              "6   755.7  1040.858604\n",
              "7   668.4  1057.999982\n",
              "8   581.9   979.844351\n",
              "9   560.8   894.664637"
            ],
            "text/html": [
              "\n",
              "  <div id=\"df-a920b537-5a15-4031-8e2a-0dfc92cc1ec4\">\n",
              "    <div class=\"colab-df-container\">\n",
              "      <div>\n",
              "<style scoped>\n",
              "    .dataframe tbody tr th:only-of-type {\n",
              "        vertical-align: middle;\n",
              "    }\n",
              "\n",
              "    .dataframe tbody tr th {\n",
              "        vertical-align: top;\n",
              "    }\n",
              "\n",
              "    .dataframe thead th {\n",
              "        text-align: right;\n",
              "    }\n",
              "</style>\n",
              "<table border=\"1\" class=\"dataframe\">\n",
              "  <thead>\n",
              "    <tr style=\"text-align: right;\">\n",
              "      <th></th>\n",
              "      <th>Actual</th>\n",
              "      <th>Predicted</th>\n",
              "    </tr>\n",
              "  </thead>\n",
              "  <tbody>\n",
              "    <tr>\n",
              "      <th>0</th>\n",
              "      <td>718.0</td>\n",
              "      <td>989.742585</td>\n",
              "    </tr>\n",
              "    <tr>\n",
              "      <th>1</th>\n",
              "      <td>670.9</td>\n",
              "      <td>1023.386632</td>\n",
              "    </tr>\n",
              "    <tr>\n",
              "      <th>2</th>\n",
              "      <td>789.8</td>\n",
              "      <td>977.472237</td>\n",
              "    </tr>\n",
              "    <tr>\n",
              "      <th>3</th>\n",
              "      <td>723.2</td>\n",
              "      <td>1112.019597</td>\n",
              "    </tr>\n",
              "    <tr>\n",
              "      <th>4</th>\n",
              "      <td>693.6</td>\n",
              "      <td>1027.901334</td>\n",
              "    </tr>\n",
              "    <tr>\n",
              "      <th>5</th>\n",
              "      <td>732.6</td>\n",
              "      <td>1001.338287</td>\n",
              "    </tr>\n",
              "    <tr>\n",
              "      <th>6</th>\n",
              "      <td>755.7</td>\n",
              "      <td>1040.858604</td>\n",
              "    </tr>\n",
              "    <tr>\n",
              "      <th>7</th>\n",
              "      <td>668.4</td>\n",
              "      <td>1057.999982</td>\n",
              "    </tr>\n",
              "    <tr>\n",
              "      <th>8</th>\n",
              "      <td>581.9</td>\n",
              "      <td>979.844351</td>\n",
              "    </tr>\n",
              "    <tr>\n",
              "      <th>9</th>\n",
              "      <td>560.8</td>\n",
              "      <td>894.664637</td>\n",
              "    </tr>\n",
              "  </tbody>\n",
              "</table>\n",
              "</div>\n",
              "      <button class=\"colab-df-convert\" onclick=\"convertToInteractive('df-a920b537-5a15-4031-8e2a-0dfc92cc1ec4')\"\n",
              "              title=\"Convert this dataframe to an interactive table.\"\n",
              "              style=\"display:none;\">\n",
              "        \n",
              "  <svg xmlns=\"http://www.w3.org/2000/svg\" height=\"24px\"viewBox=\"0 0 24 24\"\n",
              "       width=\"24px\">\n",
              "    <path d=\"M0 0h24v24H0V0z\" fill=\"none\"/>\n",
              "    <path d=\"M18.56 5.44l.94 2.06.94-2.06 2.06-.94-2.06-.94-.94-2.06-.94 2.06-2.06.94zm-11 1L8.5 8.5l.94-2.06 2.06-.94-2.06-.94L8.5 2.5l-.94 2.06-2.06.94zm10 10l.94 2.06.94-2.06 2.06-.94-2.06-.94-.94-2.06-.94 2.06-2.06.94z\"/><path d=\"M17.41 7.96l-1.37-1.37c-.4-.4-.92-.59-1.43-.59-.52 0-1.04.2-1.43.59L10.3 9.45l-7.72 7.72c-.78.78-.78 2.05 0 2.83L4 21.41c.39.39.9.59 1.41.59.51 0 1.02-.2 1.41-.59l7.78-7.78 2.81-2.81c.8-.78.8-2.07 0-2.86zM5.41 20L4 18.59l7.72-7.72 1.47 1.35L5.41 20z\"/>\n",
              "  </svg>\n",
              "      </button>\n",
              "      \n",
              "  <style>\n",
              "    .colab-df-container {\n",
              "      display:flex;\n",
              "      flex-wrap:wrap;\n",
              "      gap: 12px;\n",
              "    }\n",
              "\n",
              "    .colab-df-convert {\n",
              "      background-color: #E8F0FE;\n",
              "      border: none;\n",
              "      border-radius: 50%;\n",
              "      cursor: pointer;\n",
              "      display: none;\n",
              "      fill: #1967D2;\n",
              "      height: 32px;\n",
              "      padding: 0 0 0 0;\n",
              "      width: 32px;\n",
              "    }\n",
              "\n",
              "    .colab-df-convert:hover {\n",
              "      background-color: #E2EBFA;\n",
              "      box-shadow: 0px 1px 2px rgba(60, 64, 67, 0.3), 0px 1px 3px 1px rgba(60, 64, 67, 0.15);\n",
              "      fill: #174EA6;\n",
              "    }\n",
              "\n",
              "    [theme=dark] .colab-df-convert {\n",
              "      background-color: #3B4455;\n",
              "      fill: #D2E3FC;\n",
              "    }\n",
              "\n",
              "    [theme=dark] .colab-df-convert:hover {\n",
              "      background-color: #434B5C;\n",
              "      box-shadow: 0px 1px 3px 1px rgba(0, 0, 0, 0.15);\n",
              "      filter: drop-shadow(0px 1px 2px rgba(0, 0, 0, 0.3));\n",
              "      fill: #FFFFFF;\n",
              "    }\n",
              "  </style>\n",
              "\n",
              "      <script>\n",
              "        const buttonEl =\n",
              "          document.querySelector('#df-a920b537-5a15-4031-8e2a-0dfc92cc1ec4 button.colab-df-convert');\n",
              "        buttonEl.style.display =\n",
              "          google.colab.kernel.accessAllowed ? 'block' : 'none';\n",
              "\n",
              "        async function convertToInteractive(key) {\n",
              "          const element = document.querySelector('#df-a920b537-5a15-4031-8e2a-0dfc92cc1ec4');\n",
              "          const dataTable =\n",
              "            await google.colab.kernel.invokeFunction('convertToInteractive',\n",
              "                                                     [key], {});\n",
              "          if (!dataTable) return;\n",
              "\n",
              "          const docLinkHtml = 'Like what you see? Visit the ' +\n",
              "            '<a target=\"_blank\" href=https://colab.research.google.com/notebooks/data_table.ipynb>data table notebook</a>'\n",
              "            + ' to learn more about interactive tables.';\n",
              "          element.innerHTML = '';\n",
              "          dataTable['output_type'] = 'display_data';\n",
              "          await google.colab.output.renderOutput(dataTable, element);\n",
              "          const docLink = document.createElement('div');\n",
              "          docLink.innerHTML = docLinkHtml;\n",
              "          element.appendChild(docLink);\n",
              "        }\n",
              "      </script>\n",
              "    </div>\n",
              "  </div>\n",
              "  "
            ]
          },
          "metadata": {},
          "execution_count": 41
        }
      ]
    },
    {
      "cell_type": "code",
      "source": [
        "from sklearn.metrics import r2_score\n",
        "print('Mean Absolute Error:', metrics.mean_absolute_error(y_test, y_pred))\n",
        "print('Mean Squared Error:', metrics.mean_squared_error(y_test, y_pred))\n",
        "print('Root Mean Squared Error:', np.sqrt(metrics.mean_squared_error(y_test, y_pred)))\n",
        "\n",
        "print('R2 score on test: ', r2_score(y_test, y_pred))\n",
        "print('R2 score on train: ', r2_score(y_train, regressor.predict(x_train)))"
      ],
      "metadata": {
        "colab": {
          "base_uri": "https://localhost:8080/"
        },
        "id": "saOIb__rumjI",
        "outputId": "480ef2ba-8b6c-42a9-ea1f-db29c53d69cb"
      },
      "execution_count": 42,
      "outputs": [
        {
          "output_type": "stream",
          "name": "stdout",
          "text": [
            "Mean Absolute Error: 1080.411742181135\n",
            "Mean Squared Error: 3831547.0235029478\n",
            "Root Mean Squared Error: 1957.4337852154663\n",
            "R2 score on test:  0.8924211678349961\n",
            "R2 score on train:  0.8989482035517432\n"
          ]
        }
      ]
    },
    {
      "cell_type": "markdown",
      "source": [
        "###Polynomial Regression"
      ],
      "metadata": {
        "id": "1cBvfN85ws5N"
      }
    },
    {
      "cell_type": "code",
      "source": [
        "from sklearn.pipeline import Pipeline\n",
        "from sklearn.preprocessing import PolynomialFeatures \n",
        "from sklearn.linear_model import LinearRegression\n",
        "from sklearn.model_selection import cross_val_score\n",
        "from sklearn.preprocessing import MinMaxScaler\n",
        "\n",
        "x_train = bitrate_train_df.drop(['target'], axis = 1)\n",
        "y_train = bitrate_train_df['target']\n",
        "x_test = bitrate_test_df.drop(['target'], axis = 1)\n",
        "y_test = bitrate_test_df['target']\n",
        "\n",
        "x_train = x_train[['fps_mean', 'bitrate_mean', 'bitrate_std']] #keep only selected features \n",
        "x_test = x_test[['fps_mean', 'bitrate_mean', 'bitrate_std']]   #keep only selected features \n",
        "\n",
        "#scaling\n",
        "scaler = MinMaxScaler().fit(x_train)\n",
        "x_train = pd.DataFrame(scaler.transform(x_train), columns=x_train.columns)\n",
        "x_test = pd.DataFrame(scaler.transform(x_test), columns=x_test.columns)\n",
        "\n",
        "degrees = [1,2,3,4,5,6]\n",
        "\n",
        "for i in degrees:\n",
        "  polynomial_features = PolynomialFeatures(degree=i)\n",
        "  linear_regression = LinearRegression()\n",
        "  pipeline = Pipeline([(\"polynomial_features\", polynomial_features),\n",
        "                         (\"linear_regression\", linear_regression)])\n",
        "  pipeline.fit(x_train, y_train)\n",
        "\n",
        "  y_pred=pipeline.predict(x_test)\n",
        "\n",
        "  print('Mean Absolute Error:', metrics.mean_absolute_error(y_test, y_pred))\n",
        "  print('Mean Squared Error:', metrics.mean_squared_error(y_test, y_pred))\n",
        "  print('Root Mean Squared Error:', np.sqrt(metrics.mean_squared_error(y_test, y_pred)))\n",
        "  print('---------------------')\n"
      ],
      "metadata": {
        "colab": {
          "base_uri": "https://localhost:8080/"
        },
        "id": "9ZN0u7yKGmzl",
        "outputId": "e04352b0-0026-47bb-83ea-41d7ebe328b7"
      },
      "execution_count": 43,
      "outputs": [
        {
          "output_type": "stream",
          "name": "stdout",
          "text": [
            "Mean Absolute Error: 1080.4117421811536\n",
            "Mean Squared Error: 3831547.0235029515\n",
            "Root Mean Squared Error: 1957.4337852154672\n",
            "---------------------\n",
            "Mean Absolute Error: 1061.6941392476158\n",
            "Mean Squared Error: 3827301.0763719645\n",
            "Root Mean Squared Error: 1956.348914782832\n",
            "---------------------\n",
            "Mean Absolute Error: 1100.8376010471966\n",
            "Mean Squared Error: 4807350.604863619\n",
            "Root Mean Squared Error: 2192.5671266494032\n",
            "---------------------\n",
            "Mean Absolute Error: 1204.2218048897453\n",
            "Mean Squared Error: 33194690.83320526\n",
            "Root Mean Squared Error: 5761.48338826081\n",
            "---------------------\n",
            "Mean Absolute Error: 1324.6868205016206\n",
            "Mean Squared Error: 93085804.13317776\n",
            "Root Mean Squared Error: 9648.09847240262\n",
            "---------------------\n",
            "Mean Absolute Error: 6765.113930293512\n",
            "Mean Squared Error: 544449913155.77826\n",
            "Root Mean Squared Error: 737868.4931312478\n",
            "---------------------\n"
          ]
        }
      ]
    },
    {
      "cell_type": "markdown",
      "source": [
        "###Rgularization with Linear Regression"
      ],
      "metadata": {
        "id": "mSXokatdg1vg"
      }
    },
    {
      "cell_type": "code",
      "source": [
        "from sklearn.model_selection import train_test_split\n",
        "from sklearn.linear_model import Lasso\n",
        "from sklearn.preprocessing import StandardScaler\n",
        "from sklearn.metrics import mean_squared_error\n",
        "\n",
        "x_train = bitrate_train_df.drop(['target'], axis = 1)\n",
        "y_train = bitrate_train_df['target']\n",
        "x_test = bitrate_test_df.drop(['target'], axis = 1)\n",
        "y_test = bitrate_test_df['target']\n",
        "\n",
        "x_train = x_train[['fps_mean', 'bitrate_mean', 'bitrate_std']] #keep only selected features \n",
        "x_test = x_test[['fps_mean', 'bitrate_mean', 'bitrate_std']]   #keep only selected features \n",
        "\n",
        "x_train, x_val, y_train, y_val = train_test_split(x_train, y_train, test_size=1/8, random_state=123)#splitting train and validation\n",
        "\n",
        "#scaling\n",
        "scaler = StandardScaler().fit(x_train)\n",
        "x_train = pd.DataFrame(scaler.transform(x_train), columns=x_train.columns)\n",
        "x_test = pd.DataFrame(scaler.transform(x_test), columns=x_test.columns)\n",
        "\n",
        "\n",
        "#Lass\n",
        "lasso = Lasso().fit(x_train, y_train)\n",
        "\n",
        "#selecting alpha hyperparameter\n",
        "alphas = [2.2, 2, 1.5, 1.3, 1.2, 1.1, 1, 0.3, 0.1]\n",
        "losses = []\n",
        "for alpha in alphas:\n",
        "    model = Lasso(alpha = alpha).fit(x_train, y_train)\n",
        "    mse = mean_squared_error(model.predict(x_val),y_val)\n",
        "    losses.append(mse)\n",
        "plt.plot(alphas, losses)\n",
        "plt.title(\"Lasso alpha value selection\")\n",
        "plt.xlabel(\"alpha\")\n",
        "plt.ylabel(\"Mean squared error\")\n",
        "plt.show()\n",
        "\n",
        "best_alpha = alphas[np.argmin(losses)]\n",
        "print(\"Best value of alpha:\", best_alpha)"
      ],
      "metadata": {
        "colab": {
          "base_uri": "https://localhost:8080/",
          "height": 530
        },
        "id": "AhuB6tf9g__T",
        "outputId": "3609bd1d-9867-448b-e282-d6c86a3031fd"
      },
      "execution_count": 44,
      "outputs": [
        {
          "output_type": "display_data",
          "data": {
            "text/plain": [
              "<Figure size 720x576 with 1 Axes>"
            ],
            "image/png": "[encoded data removed]"
          },
          "metadata": {
            "needs_background": "light"
          }
        },
        {
          "output_type": "stream",
          "name": "stdout",
          "text": [
            "Best value of alpha: 2.2\n"
          ]
        }
      ]
    },
    {
      "cell_type": "code",
      "source": [
        "lasso = Lasso(best_alpha)\n",
        "lasso.fit(x_train, y_train)\n",
        "y_pred = lasso.predict(x_test)\n",
        "print('Mean Absolute Error:', metrics.mean_absolute_error(y_test, y_pred))\n",
        "print(\"MSE on testset:\", mean_squared_error(y_test, y_pred))\n",
        "print('Root Mean Squared Error:', np.sqrt(metrics.mean_squared_error(y_test, y_pred)))"
      ],
      "metadata": {
        "colab": {
          "base_uri": "https://localhost:8080/"
        },
        "id": "bRwcETDrkiBs",
        "outputId": "2ac60c86-4794-47ec-8f6c-dc2ed6576bf4"
      },
      "execution_count": 45,
      "outputs": [
        {
          "output_type": "stream",
          "name": "stdout",
          "text": [
            "Mean Absolute Error: 1081.1669616977745\n",
            "MSE on testset: 3831673.609986728\n",
            "Root Mean Squared Error: 1957.4661197544974\n"
          ]
        }
      ]
    },
    {
      "cell_type": "markdown",
      "source": [
        "###Polynomial Ridge Regression\n",
        "This section was an unseccsful attempt to apply Kernel Ridge, Therefore it is uncommented and left here for documnetation only."
      ],
      "metadata": {
        "id": "T1Rq5IhPODXz"
      }
    },
    {
      "cell_type": "code",
      "source": [
        "# from sklearn.model_selection import train_test_split\n",
        "# from sklearn.kernel_ridge import KernelRidge\n",
        "# from sklearn.preprocessing import RobustScaler\n",
        "# from sklearn.metrics import mean_squared_error\n",
        "\n",
        "# x_train = bitrate_train_df.drop(['target'], axis = 1)\n",
        "# y_train = bitrate_train_df['target']\n",
        "# x_test = bitrate_test_df.drop(['target'], axis = 1)\n",
        "# y_test = bitrate_test_df['target']\n",
        "\n",
        "# x_train = x_train[['bitrate_mean']] #keep only selected features \n",
        "# x_test = x_test[['bitrate_mean']]   #keep only selected features \n",
        "\n",
        "# x_train, x_val, y_train, y_val = train_test_split(x_train, y_train, test_size=1/8, random_state=123)#splitting train and validation\n",
        "\n",
        "# #scaling\n",
        "# scaler = RobustScaler().fit(x_train)\n",
        "# x_train = pd.DataFrame(scaler.transform(x_train), columns=x_train.columns)\n",
        "# x_test = pd.DataFrame(scaler.transform(x_test), columns=x_test.columns)\n",
        "\n",
        "\n",
        "# #KernelRIdge\n",
        "# n = 2\n",
        "# krr = KernelRidge(alpha=2,kernel='polynomial',degree=n).fit(x_train, y_train)\n",
        "# y_pred=krr.predict(x_test)\n",
        "# print('Mean Absolute Error:', metrics.mean_absolute_error(y_test, y_pred))\n",
        "# print('Mean Squared Error:', metrics.mean_squared_error(y_test, y_pred))\n",
        "# print('Root Mean Squared Error:', np.sqrt(metrics.mean_squared_error(y_test, y_pred)))\n",
        "# print('---------------------')\n",
        "\n"
      ],
      "metadata": {
        "id": "-1P_WzjONs-i"
      },
      "execution_count": null,
      "outputs": []
    },
    {
      "cell_type": "markdown",
      "source": [
        "# Classification Task"
      ],
      "metadata": {
        "id": "dHFvQG351rqg"
      }
    },
    {
      "cell_type": "markdown",
      "source": [
        "##Reading Data"
      ],
      "metadata": {
        "id": "uY8-RCxymjrE"
      }
    },
    {
      "cell_type": "code",
      "source": [
        "import pandas as pd\n",
        "import numpy as np\n",
        "import sklearn\n",
        "import matplotlib.pyplot as plt\n",
        "%matplotlib inline\n",
        "\n",
        "train_data_df = pd.read_csv('train_data.csv')\n",
        "test_data_df = pd.read_csv('test_data.csv')\n",
        "\n",
        "\n",
        "train_data_df.describe().T"
      ],
      "metadata": {
        "id": "UsOkcv8Ww0Pj",
        "colab": {
          "base_uri": "https://localhost:8080/",
          "height": 363
        },
        "outputId": "e2553a84-77a0-4eb6-de0f-6bc18ceac3da"
      },
      "execution_count": 2,
      "outputs": [
        {
          "output_type": "execute_result",
          "data": {
            "text/plain": [
              "                        count          mean           std  min        25%  \\\n",
              "fps_mean             406572.0  3.449756e+01  1.162549e+01  0.0  28.300000   \n",
              "fps_std              406572.0  2.285486e+00  3.708531e+00  0.0   0.316228   \n",
              "fps_lags             406572.0  1.831508e-01  1.099384e+00  0.0   0.000000   \n",
              "rtt_mean             406572.0  5.431440e+01  1.338721e+02  0.0  14.100000   \n",
              "rtt_std              406572.0  1.952502e+01  1.563643e+02  0.0   0.699206   \n",
              "dropped_frames_mean  406572.0  1.730432e+06  4.930091e+07  0.0   0.000000   \n",
              "dropped_frames_std   406572.0  1.378279e+05  9.229776e+06  0.0   0.000000   \n",
              "dropped_frames_max   406572.0  1.893339e+06  5.241003e+07  0.0   0.000000   \n",
              "auto_fec_mean        406572.0  5.141354e+01  3.483604e+01  0.0  50.000000   \n",
              "stream_quality       406572.0  6.846020e-02  2.525343e-01  0.0   0.000000   \n",
              "\n",
              "                           50%        75%           max  \n",
              "fps_mean             30.000000  43.000000  1.271000e+02  \n",
              "fps_std               0.994429   2.590581  3.125408e+02  \n",
              "fps_lags              0.000000   0.000000  1.000000e+01  \n",
              "rtt_mean             32.300000  57.100000  1.289840e+04  \n",
              "rtt_std               1.490712   5.334375  4.072193e+04  \n",
              "dropped_frames_mean   0.000000   0.000000  2.097289e+09  \n",
              "dropped_frames_std    0.000000   0.000000  9.963751e+08  \n",
              "dropped_frames_max    0.000000   0.000000  2.097289e+09  \n",
              "auto_fec_mean        50.000000  50.000000  2.500000e+02  \n",
              "stream_quality        0.000000   0.000000  1.000000e+00  "
            ],
            "text/html": [
              "\n",
              "  <div id=\"df-70b579fd-6a70-4290-87e4-cc4119e4fcc1\">\n",
              "    <div class=\"colab-df-container\">\n",
              "      <div>\n",
              "<style scoped>\n",
              "    .dataframe tbody tr th:only-of-type {\n",
              "        vertical-align: middle;\n",
              "    }\n",
              "\n",
              "    .dataframe tbody tr th {\n",
              "        vertical-align: top;\n",
              "    }\n",
              "\n",
              "    .dataframe thead th {\n",
              "        text-align: right;\n",
              "    }\n",
              "</style>\n",
              "<table border=\"1\" class=\"dataframe\">\n",
              "  <thead>\n",
              "    <tr style=\"text-align: right;\">\n",
              "      <th></th>\n",
              "      <th>count</th>\n",
              "      <th>mean</th>\n",
              "      <th>std</th>\n",
              "      <th>min</th>\n",
              "      <th>25%</th>\n",
              "      <th>50%</th>\n",
              "      <th>75%</th>\n",
              "      <th>max</th>\n",
              "    </tr>\n",
              "  </thead>\n",
              "  <tbody>\n",
              "    <tr>\n",
              "      <th>fps_mean</th>\n",
              "      <td>406572.0</td>\n",
              "      <td>3.449756e+01</td>\n",
              "      <td>1.162549e+01</td>\n",
              "      <td>0.0</td>\n",
              "      <td>28.300000</td>\n",
              "      <td>30.000000</td>\n",
              "      <td>43.000000</td>\n",
              "      <td>1.271000e+02</td>\n",
              "    </tr>\n",
              "    <tr>\n",
              "      <th>fps_std</th>\n",
              "      <td>406572.0</td>\n",
              "      <td>2.285486e+00</td>\n",
              "      <td>3.708531e+00</td>\n",
              "      <td>0.0</td>\n",
              "      <td>0.316228</td>\n",
              "      <td>0.994429</td>\n",
              "      <td>2.590581</td>\n",
              "      <td>3.125408e+02</td>\n",
              "    </tr>\n",
              "    <tr>\n",
              "      <th>fps_lags</th>\n",
              "      <td>406572.0</td>\n",
              "      <td>1.831508e-01</td>\n",
              "      <td>1.099384e+00</td>\n",
              "      <td>0.0</td>\n",
              "      <td>0.000000</td>\n",
              "      <td>0.000000</td>\n",
              "      <td>0.000000</td>\n",
              "      <td>1.000000e+01</td>\n",
              "    </tr>\n",
              "    <tr>\n",
              "      <th>rtt_mean</th>\n",
              "      <td>406572.0</td>\n",
              "      <td>5.431440e+01</td>\n",
              "      <td>1.338721e+02</td>\n",
              "      <td>0.0</td>\n",
              "      <td>14.100000</td>\n",
              "      <td>32.300000</td>\n",
              "      <td>57.100000</td>\n",
              "      <td>1.289840e+04</td>\n",
              "    </tr>\n",
              "    <tr>\n",
              "      <th>rtt_std</th>\n",
              "      <td>406572.0</td>\n",
              "      <td>1.952502e+01</td>\n",
              "      <td>1.563643e+02</td>\n",
              "      <td>0.0</td>\n",
              "      <td>0.699206</td>\n",
              "      <td>1.490712</td>\n",
              "      <td>5.334375</td>\n",
              "      <td>4.072193e+04</td>\n",
              "    </tr>\n",
              "    <tr>\n",
              "      <th>dropped_frames_mean</th>\n",
              "      <td>406572.0</td>\n",
              "      <td>1.730432e+06</td>\n",
              "      <td>4.930091e+07</td>\n",
              "      <td>0.0</td>\n",
              "      <td>0.000000</td>\n",
              "      <td>0.000000</td>\n",
              "      <td>0.000000</td>\n",
              "      <td>2.097289e+09</td>\n",
              "    </tr>\n",
              "    <tr>\n",
              "      <th>dropped_frames_std</th>\n",
              "      <td>406572.0</td>\n",
              "      <td>1.378279e+05</td>\n",
              "      <td>9.229776e+06</td>\n",
              "      <td>0.0</td>\n",
              "      <td>0.000000</td>\n",
              "      <td>0.000000</td>\n",
              "      <td>0.000000</td>\n",
              "      <td>9.963751e+08</td>\n",
              "    </tr>\n",
              "    <tr>\n",
              "      <th>dropped_frames_max</th>\n",
              "      <td>406572.0</td>\n",
              "      <td>1.893339e+06</td>\n",
              "      <td>5.241003e+07</td>\n",
              "      <td>0.0</td>\n",
              "      <td>0.000000</td>\n",
              "      <td>0.000000</td>\n",
              "      <td>0.000000</td>\n",
              "      <td>2.097289e+09</td>\n",
              "    </tr>\n",
              "    <tr>\n",
              "      <th>auto_fec_mean</th>\n",
              "      <td>406572.0</td>\n",
              "      <td>5.141354e+01</td>\n",
              "      <td>3.483604e+01</td>\n",
              "      <td>0.0</td>\n",
              "      <td>50.000000</td>\n",
              "      <td>50.000000</td>\n",
              "      <td>50.000000</td>\n",
              "      <td>2.500000e+02</td>\n",
              "    </tr>\n",
              "    <tr>\n",
              "      <th>stream_quality</th>\n",
              "      <td>406572.0</td>\n",
              "      <td>6.846020e-02</td>\n",
              "      <td>2.525343e-01</td>\n",
              "      <td>0.0</td>\n",
              "      <td>0.000000</td>\n",
              "      <td>0.000000</td>\n",
              "      <td>0.000000</td>\n",
              "      <td>1.000000e+00</td>\n",
              "    </tr>\n",
              "  </tbody>\n",
              "</table>\n",
              "</div>\n",
              "      <button class=\"colab-df-convert\" onclick=\"convertToInteractive('df-70b579fd-6a70-4290-87e4-cc4119e4fcc1')\"\n",
              "              title=\"Convert this dataframe to an interactive table.\"\n",
              "              style=\"display:none;\">\n",
              "        \n",
              "  <svg xmlns=\"http://www.w3.org/2000/svg\" height=\"24px\"viewBox=\"0 0 24 24\"\n",
              "       width=\"24px\">\n",
              "    <path d=\"M0 0h24v24H0V0z\" fill=\"none\"/>\n",
              "    <path d=\"M18.56 5.44l.94 2.06.94-2.06 2.06-.94-2.06-.94-.94-2.06-.94 2.06-2.06.94zm-11 1L8.5 8.5l.94-2.06 2.06-.94-2.06-.94L8.5 2.5l-.94 2.06-2.06.94zm10 10l.94 2.06.94-2.06 2.06-.94-2.06-.94-.94-2.06-.94 2.06-2.06.94z\"/><path d=\"M17.41 7.96l-1.37-1.37c-.4-.4-.92-.59-1.43-.59-.52 0-1.04.2-1.43.59L10.3 9.45l-7.72 7.72c-.78.78-.78 2.05 0 2.83L4 21.41c.39.39.9.59 1.41.59.51 0 1.02-.2 1.41-.59l7.78-7.78 2.81-2.81c.8-.78.8-2.07 0-2.86zM5.41 20L4 18.59l7.72-7.72 1.47 1.35L5.41 20z\"/>\n",
              "  </svg>\n",
              "      </button>\n",
              "      \n",
              "  <style>\n",
              "    .colab-df-container {\n",
              "      display:flex;\n",
              "      flex-wrap:wrap;\n",
              "      gap: 12px;\n",
              "    }\n",
              "\n",
              "    .colab-df-convert {\n",
              "      background-color: #E8F0FE;\n",
              "      border: none;\n",
              "      border-radius: 50%;\n",
              "      cursor: pointer;\n",
              "      display: none;\n",
              "      fill: #1967D2;\n",
              "      height: 32px;\n",
              "      padding: 0 0 0 0;\n",
              "      width: 32px;\n",
              "    }\n",
              "\n",
              "    .colab-df-convert:hover {\n",
              "      background-color: #E2EBFA;\n",
              "      box-shadow: 0px 1px 2px rgba(60, 64, 67, 0.3), 0px 1px 3px 1px rgba(60, 64, 67, 0.15);\n",
              "      fill: #174EA6;\n",
              "    }\n",
              "\n",
              "    [theme=dark] .colab-df-convert {\n",
              "      background-color: #3B4455;\n",
              "      fill: #D2E3FC;\n",
              "    }\n",
              "\n",
              "    [theme=dark] .colab-df-convert:hover {\n",
              "      background-color: #434B5C;\n",
              "      box-shadow: 0px 1px 3px 1px rgba(0, 0, 0, 0.15);\n",
              "      filter: drop-shadow(0px 1px 2px rgba(0, 0, 0, 0.3));\n",
              "      fill: #FFFFFF;\n",
              "    }\n",
              "  </style>\n",
              "\n",
              "      <script>\n",
              "        const buttonEl =\n",
              "          document.querySelector('#df-70b579fd-6a70-4290-87e4-cc4119e4fcc1 button.colab-df-convert');\n",
              "        buttonEl.style.display =\n",
              "          google.colab.kernel.accessAllowed ? 'block' : 'none';\n",
              "\n",
              "        async function convertToInteractive(key) {\n",
              "          const element = document.querySelector('#df-70b579fd-6a70-4290-87e4-cc4119e4fcc1');\n",
              "          const dataTable =\n",
              "            await google.colab.kernel.invokeFunction('convertToInteractive',\n",
              "                                                     [key], {});\n",
              "          if (!dataTable) return;\n",
              "\n",
              "          const docLinkHtml = 'Like what you see? Visit the ' +\n",
              "            '<a target=\"_blank\" href=https://colab.research.google.com/notebooks/data_table.ipynb>data table notebook</a>'\n",
              "            + ' to learn more about interactive tables.';\n",
              "          element.innerHTML = '';\n",
              "          dataTable['output_type'] = 'display_data';\n",
              "          await google.colab.output.renderOutput(dataTable, element);\n",
              "          const docLink = document.createElement('div');\n",
              "          docLink.innerHTML = docLinkHtml;\n",
              "          element.appendChild(docLink);\n",
              "        }\n",
              "      </script>\n",
              "    </div>\n",
              "  </div>\n",
              "  "
            ]
          },
          "metadata": {},
          "execution_count": 2
        }
      ]
    },
    {
      "cell_type": "markdown",
      "source": [
        "## Pandas Profiling"
      ],
      "metadata": {
        "id": "b4XXh9YznsPM"
      }
    },
    {
      "cell_type": "code",
      "source": [
        "from pandas_profiling import ProfileReport\n",
        "\n",
        "report = ProfileReport(train_data_df)\n",
        "report.to_file('train_data_df.html')"
      ],
      "metadata": {
        "id": "tXfbOXsun55Y"
      },
      "execution_count": 3,
      "outputs": []
    },
    {
      "cell_type": "markdown",
      "source": [
        "##Data Preprocessing"
      ],
      "metadata": {
        "id": "x0Xu7N7-sJ0E"
      }
    },
    {
      "cell_type": "code",
      "source": [
        "#remove duplicates \n",
        "train_data_df.drop_duplicates(inplace=True)"
      ],
      "metadata": {
        "id": "T9NNnlYXmytZ"
      },
      "execution_count": 4,
      "outputs": []
    },
    {
      "cell_type": "code",
      "source": [
        "#onehot encoding for categorical features\n",
        "from category_encoders import OneHotEncoder\n",
        "\n",
        "\n",
        "features_to_encode = ['auto_bitrate_state','auto_fec_state']\n",
        "encoder = OneHotEncoder(cols=features_to_encode).fit(train_data_df)\n",
        "\n",
        "train_data_df = encoder.transform(train_data_df)"
      ],
      "metadata": {
        "id": "0aF-nDa2vZ1L"
      },
      "execution_count": 5,
      "outputs": []
    },
    {
      "cell_type": "code",
      "source": [
        "#in case you are using colab you need to run this cell\n",
        "#!pip install category_encoders"
      ],
      "metadata": {
        "id": "PYMNsxQat4u3"
      },
      "execution_count": 13,
      "outputs": []
    },
    {
      "cell_type": "code",
      "source": [
        "#Feature encoding\n",
        "from sklearn.preprocessing import MinMaxScaler\n",
        "from sklearn.model_selection import train_test_split\n",
        "from sklearn.feature_selection import SelectKBest\n",
        "from sklearn.feature_selection import f_classif\n",
        "\n",
        "#select best 8 features\n",
        "selector = SelectKBest(f_classif, k=8).fit(train_data_df.drop(['stream_quality'], axis = 1), train_data_df['stream_quality'])\n",
        "names = selector.get_feature_names_out()\n",
        "print(names)\n"
      ],
      "metadata": {
        "colab": {
          "base_uri": "https://localhost:8080/"
        },
        "id": "HtjJ2zkQtlIn",
        "outputId": "052c170c-39b1-43d2-a673-4e3fd31a1a2b"
      },
      "execution_count": 6,
      "outputs": [
        {
          "output_type": "stream",
          "name": "stdout",
          "text": [
            "['fps_mean' 'fps_std' 'fps_lags' 'rtt_mean' 'rtt_std'\n",
            " 'dropped_frames_mean' 'dropped_frames_std' 'dropped_frames_max']\n"
          ]
        }
      ]
    },
    {
      "cell_type": "code",
      "source": [
        "x_train=train_data_df[['fps_mean', 'fps_std', 'fps_lags', 'rtt_mean', 'rtt_std','dropped_frames_mean', 'dropped_frames_std', 'dropped_frames_max']]\n",
        "y_train= train_data_df['stream_quality']\n",
        "x_test=test_data_df[['fps_mean', 'fps_std', 'fps_lags', 'rtt_mean', 'rtt_std','dropped_frames_mean', 'dropped_frames_std', 'dropped_frames_max']]\n",
        "y_test= test_data_df['stream_quality']"
      ],
      "metadata": {
        "id": "XHT3CXkCutOc"
      },
      "execution_count": 7,
      "outputs": []
    },
    {
      "cell_type": "code",
      "source": [
        "#scaling data \n",
        "scaler = MinMaxScaler().fit(x_train)\n",
        "x_train = pd.DataFrame(scaler.transform(x_train), columns=x_train.columns)\n",
        "x_test = pd.DataFrame(scaler.transform(x_test), columns=x_test.columns)"
      ],
      "metadata": {
        "id": "P2ZRI8l0yb8s"
      },
      "execution_count": 8,
      "outputs": []
    },
    {
      "cell_type": "markdown",
      "source": [
        "##Logistic Regression"
      ],
      "metadata": {
        "id": "tSt0J3EI0La7"
      }
    },
    {
      "cell_type": "markdown",
      "source": [
        "###With Imbalanced Data"
      ],
      "metadata": {
        "id": "1YzwIKuW0Pt7"
      }
    },
    {
      "cell_type": "code",
      "source": [
        "from sklearn.linear_model import LogisticRegression\n",
        "from sklearn import metrics\n",
        "\n",
        "# fit Logistic Regression\n",
        "clf = LogisticRegression(penalty='l2', solver='liblinear').fit(x_train, y_train)\n",
        "y_test_pred = clf.predict(x_test)\n",
        "\n",
        "# calculate metrics\n",
        "print('Testing accuracy = {}'.format(metrics.accuracy_score(y_test, y_test_pred)))\n",
        "print('Testing precision = {}'.format(metrics.precision_score(y_test, y_test_pred)))\n",
        "print('Testing recall = {}'.format(metrics.recall_score(y_test, y_test_pred)))\n",
        "print('Testing f1_score = {}'.format(metrics.f1_score(y_test, y_test_pred)))\n"
      ],
      "metadata": {
        "colab": {
          "base_uri": "https://localhost:8080/"
        },
        "id": "rZLInaf50WqV",
        "outputId": "753b7075-4cfb-47b6-e936-87da95840681"
      },
      "execution_count": 9,
      "outputs": [
        {
          "output_type": "stream",
          "name": "stdout",
          "text": [
            "Testing accuracy = 0.9408487824102202\n",
            "Testing precision = 0.7213227695487426\n",
            "Testing recall = 0.1334267873072512\n",
            "Testing f1_score = 0.2251976125181481\n"
          ]
        }
      ]
    },
    {
      "cell_type": "markdown",
      "source": [
        "###With Balanced Data"
      ],
      "metadata": {
        "id": "3Yb2-ZZ2DzHI"
      }
    },
    {
      "cell_type": "code",
      "source": [
        "from scipy import stats\n",
        "train_data_df = pd.read_csv('train_data.csv')\n",
        "test_data_df = pd.read_csv('test_data.csv')\n",
        "\n",
        "train_data_df.drop_duplicates(inplace=True)\n",
        "\n",
        "\n",
        "features_to_encode = ['auto_bitrate_state','auto_fec_state']\n",
        "encoder = OneHotEncoder(cols=features_to_encode).fit(train_data_df)\n",
        "train_data_df = encoder.transform(train_data_df)\n",
        "\n",
        "#Remove outliers \n",
        "print('shape before removal', train_data_df.shape)\n",
        "train_data_df = train_data_df[(np.abs(stats.zscore(train_data_df)) < 4).all(axis=1)]\n",
        "print('shape after removal', train_data_df.shape)\n",
        "\n",
        "\n",
        "train_data_df_0 = train_data_df[train_data_df['stream_quality'] == 0]\n",
        "train_data_df_1 = train_data_df[train_data_df['stream_quality'] == 1]\n",
        "\n",
        "# upsampling the data\n",
        "train_data_df_1_new = train_data_df_1.sample(len(train_data_df_0.index), replace=True)\n",
        "train_data_df = pd.concat([train_data_df_0, train_data_df_1_new], axis=0)\n",
        "\n",
        "\n",
        "\n",
        "x_train=train_data_df[['fps_mean', 'fps_std', 'fps_lags', 'rtt_mean', 'rtt_std']]\n",
        "y_train= train_data_df['stream_quality']\n",
        "x_test=test_data_df[['fps_mean', 'fps_std', 'fps_lags', 'rtt_mean', 'rtt_std']]\n",
        "y_test= test_data_df['stream_quality']\n",
        "\n",
        "scaler = MinMaxScaler().fit(x_train)\n",
        "x_train = pd.DataFrame(scaler.transform(x_train), columns=x_train.columns)\n",
        "x_test = pd.DataFrame(scaler.transform(x_test), columns=x_test.columns)\n",
        "\n",
        "\n"
      ],
      "metadata": {
        "colab": {
          "base_uri": "https://localhost:8080/"
        },
        "id": "tDMHGLPiGSGA",
        "outputId": "30f0f2d5-87c7-498d-e1e7-36299f76bd4a"
      },
      "execution_count": 11,
      "outputs": [
        {
          "output_type": "stream",
          "name": "stdout",
          "text": [
            "shape before removal (373142, 15)\n",
            "shape after removal (352345, 15)\n"
          ]
        }
      ]
    },
    {
      "cell_type": "code",
      "source": [
        "# fit Logistic Regression\n",
        "clf = LogisticRegression(penalty='l2', solver='liblinear').fit(x_train, y_train)\n",
        "y_test_pred = clf.predict(x_test)\n",
        "\n",
        "# calculate metrics\n",
        "print('Testing accuracy = {}'.format(metrics.accuracy_score(y_test, y_test_pred)))\n",
        "print('Testing precision = {}'.format(metrics.precision_score(y_test, y_test_pred)))\n",
        "print('Testing recall = {}'.format(metrics.recall_score(y_test, y_test_pred)))\n",
        "print('Testing f1_score = {}'.format(metrics.f1_score(y_test, y_test_pred)))"
      ],
      "metadata": {
        "colab": {
          "base_uri": "https://localhost:8080/"
        },
        "id": "pgZMmL0AIN0s",
        "outputId": "360031a8-6f92-47f7-83fb-d67db2cf548a"
      },
      "execution_count": 12,
      "outputs": [
        {
          "output_type": "stream",
          "name": "stdout",
          "text": [
            "Testing accuracy = 0.8489137752672458\n",
            "Testing precision = 0.22768317853457173\n",
            "Testing recall = 0.5623168089715815\n",
            "Testing f1_score = 0.3241267859110442\n"
          ]
        }
      ]
    },
    {
      "cell_type": "code",
      "source": [
        "thresholds = [0.1,0.2,0.3,0.4,0.5,0.6,0.7,0.8,0.9,0.95, 0.99, 0.999]\n",
        "pred_proba = clf.predict_proba(x_test)\n",
        "\n",
        "results = [[],[],[],[]]\n",
        "for i in thresholds:\n",
        "    y_test_pred_thr = np.where(pred_proba[:, 1] > i, 1, 0)\n",
        "    results[0].append(metrics.accuracy_score(y_test, y_test_pred_thr))\n",
        "    results[1].append(metrics.precision_score(y_test, y_test_pred_thr))\n",
        "    results[2].append(metrics.recall_score(y_test, y_test_pred_thr))\n",
        "    results[3].append(metrics.f1_score(y_test, y_test_pred_thr))\n",
        "\n",
        "plt.plot(thresholds, results[0], label = 'accuracy')   \n",
        "plt.plot(thresholds, results[1], label = 'precision')   \n",
        "plt.plot(thresholds, results[2], label = 'recall')\n",
        "plt.plot(thresholds, results[3], label = 'f1_score')\n",
        "\n",
        "plt.title('Threshold Selection')\n",
        "plt.xlabel('threshold')\n",
        "plt.ylabel('score')\n",
        "plt.legend()\n",
        "plt.grid()"
      ],
      "metadata": {
        "colab": {
          "base_uri": "https://localhost:8080/",
          "height": 295
        },
        "id": "wUIDXlS6wE7C",
        "outputId": "abb7151b-67f1-4bcd-b7a9-94b717536edf"
      },
      "execution_count": 18,
      "outputs": [
        {
          "output_type": "display_data",
          "data": {
            "text/plain": [
              "<Figure size 432x288 with 1 Axes>"
            ],
            "image/png": "[encoded data removed]"
          },
          "metadata": {
            "needs_background": "light"
          }
        }
      ]
    },
    {
      "cell_type": "code",
      "source": [
        "from sklearn.metrics import confusion_matrix\n",
        "from sklearn.metrics import plot_confusion_matrix\n",
        "\n",
        "print('sklearn Confusion Matrix for Sample set:\\n', confusion_matrix(y_test, y_test_pred))\n",
        "plot_confusion_matrix(clf, x_test, y_test)  \n",
        "plt.show()"
      ],
      "metadata": {
        "colab": {
          "base_uri": "https://localhost:8080/",
          "height": 386
        },
        "id": "lhM5KPkew6es",
        "outputId": "58b75852-7b06-4826-990c-215b98bca1c4"
      },
      "execution_count": 20,
      "outputs": [
        {
          "output_type": "stream",
          "name": "stdout",
          "text": [
            "sklearn Confusion Matrix for Sample set:\n",
            " [[197967  29935]\n",
            " [  6869   8825]]\n"
          ]
        },
        {
          "output_type": "stream",
          "name": "stderr",
          "text": [
            "/usr/local/lib/python3.7/dist-packages/sklearn/utils/deprecation.py:87: FutureWarning: Function plot_confusion_matrix is deprecated; Function `plot_confusion_matrix` is deprecated in 1.0 and will be removed in 1.2. Use one of the class methods: ConfusionMatrixDisplay.from_predictions or ConfusionMatrixDisplay.from_estimator.\n",
            "  warnings.warn(msg, category=FutureWarning)\n"
          ]
        },
        {
          "output_type": "display_data",
          "data": {
            "text/plain": [
              "<Figure size 432x288 with 2 Axes>"
            ],
            "image/png": "[encoded data removed]"
          },
          "metadata": {
            "needs_background": "light"
          }
        }
      ]
    }
  ]
}